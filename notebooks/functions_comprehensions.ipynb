{
 "cells": [
  {
   "cell_type": "markdown",
   "id": "53cd138e",
   "metadata": {},
   "source": [
    "# Functions"
   ]
  },
  {
   "cell_type": "code",
   "execution_count": 27,
   "id": "26ef7879",
   "metadata": {},
   "outputs": [
    {
     "name": "stdout",
     "output_type": "stream",
     "text": [
      "Hello, ML Engineer!\n",
      "Area 1: 20\n",
      "Area 2: -8\n"
     ]
    }
   ],
   "source": [
    "# --- Functions ---\n",
    "def greet(name):\n",
    "    \"\"\"This function greets the person passed in as a parameter.\"\"\"\n",
    "    return f\"Hello, {name}!\"\n",
    "\n",
    "message = greet(\"ML Engineer\")\n",
    "print(message)\n",
    "\n",
    "def calculate_area(length: float, width: float):\n",
    "    \"\"\"Calculates the area of a rectangle.\"\"\"\n",
    "\n",
    "    return length * width\n",
    "\n",
    "area1 = calculate_area(5, 4)\n",
    "area2 = calculate_area(-2, 4)\n",
    "print(f\"Area 1: {area1}\")\n",
    "print(f\"Area 2: {area2}\")\n"
   ]
  },
  {
   "cell_type": "code",
   "execution_count": null,
   "id": "5aa78e94",
   "metadata": {},
   "outputs": [
    {
     "data": {
      "text/plain": [
       "'banubanubanubanu'"
      ]
     },
     "execution_count": 28,
     "metadata": {},
     "output_type": "execute_result"
    }
   ],
   "source": []
  },
  {
   "cell_type": "code",
   "execution_count": null,
   "id": "c90bf63a",
   "metadata": {},
   "outputs": [
    {
     "name": "stdout",
     "output_type": "stream",
     "text": [
      "3 squared: 9\n",
      "2 cubed: 8\n",
      "Arguments passed to *args:\n",
      "1\n",
      "test\n",
      "True\n",
      "Keyword arguments passed to **kwargs:\n",
      "name: Bob\n",
      "age: 25\n",
      "country: Canada\n"
     ]
    }
   ],
   "source": [
    "# Function with default arguments\n",
    "def power(base, exponent=2):\n",
    "    \"\"\"Raises base to the power of exponent.\"\"\"\n",
    "    return base ** exponent\n",
    "\n",
    "print(f\"3 squared: {power(3)}\")\n",
    "print(f\"2 cubed: {power(2, 3)}\")\n",
    "\n",
    "# Function with variable number of arguments\n",
    "def print_all(*args): # *args collects extra positional arguments into a tuple\n",
    "    print(\"Arguments passed to *args:\")\n",
    "    for arg in args:\n",
    "        print(arg)\n",
    "\n",
    "print_all(1, \"test\", True)\n",
    "\n",
    "\n"
   ]
  },
  {
   "cell_type": "code",
   "execution_count": 31,
   "id": "b5d71fca",
   "metadata": {},
   "outputs": [],
   "source": [
    "def print_info(**kwargs): # **kwargs collects extra keyword arguments into a dictionary\n",
    "    print(\"Keyword arguments passed to **kwargs:\")\n",
    "    for key, value in kwargs.items():\n",
    "        print(f\"{key}: {value}\")"
   ]
  },
  {
   "cell_type": "code",
   "execution_count": 8,
   "id": "b1aae940",
   "metadata": {},
   "outputs": [
    {
     "name": "stdout",
     "output_type": "stream",
     "text": [
      "Lambda addition: 5 + 3 = 8\n",
      "Squared numbers (using map and lambda): [1, 4, 9, 16, 25]\n",
      "Even numbers (using filter and lambda): [2, 4]\n"
     ]
    }
   ],
   "source": [
    "# --- Lambda Functions (Anonymous Functions) ---\n",
    "# Useful for short, simple operations\n",
    "add = lambda x, y: x + y\n",
    "print(f\"Lambda addition: 5 + 3 = {add(5, 3)}\")\n",
    "\n",
    "numbers = [1, 2, 3, 4, 5]\n",
    "# Using lambda with map() to square each number\n",
    "squared_numbers = list(map(lambda x: x**2, numbers))\n",
    "print(f\"Squared numbers (using map and lambda): {squared_numbers}\")\n",
    "\n",
    "# Using lambda with filter() to get even numbers\n",
    "even_numbers = list(filter(lambda x: x % 2 == 0, numbers))\n",
    "print(f\"Even numbers (using filter and lambda): {even_numbers}\")"
   ]
  },
  {
   "cell_type": "markdown",
   "id": "bf182f6f",
   "metadata": {},
   "source": [
    "# Comprehensions"
   ]
  },
  {
   "cell_type": "code",
   "execution_count": 37,
   "id": "5d0e6a1e",
   "metadata": {},
   "outputs": [
    {
     "data": {
      "text/plain": [
       "[1, 4, 9, 16, 25]"
      ]
     },
     "execution_count": 37,
     "metadata": {},
     "output_type": "execute_result"
    }
   ],
   "source": [
    "# --- List Comprehensions ---\n",
    "# Concise way to create lists\n",
    "# Basic syntax: [expression for item in iterable]\n",
    "numbers = [1, 2, 3, 4, 5]\n",
    "\n",
    "squares = [x**2 for x in numbers]\n",
    "squares\n",
    "\n"
   ]
  },
  {
   "cell_type": "code",
   "execution_count": 36,
   "id": "17bad81a",
   "metadata": {},
   "outputs": [
    {
     "data": {
      "text/plain": [
       "[1, 4, 9, 16, 25]"
      ]
     },
     "execution_count": 36,
     "metadata": {},
     "output_type": "execute_result"
    }
   ],
   "source": [
    "squares = []\n",
    "for x in numbers:\n",
    "    squares.append(x**2)\n",
    "squares"
   ]
  },
  {
   "cell_type": "code",
   "execution_count": 42,
   "id": "25f328fa",
   "metadata": {},
   "outputs": [
    {
     "name": "stdout",
     "output_type": "stream",
     "text": [
      "Evens (list comprehension): [2, 4]\n",
      "Number-square pairs: [(1, 1), (2, 4), (3, 9), (4, 16), (5, 25)]\n"
     ]
    }
   ],
   "source": [
    "# With a condition: [expression for item in iterable if condition]\n",
    "evens_comp = [x for x in numbers if x % 2 == 0]\n",
    "print(f\"Evens (list comprehension): {evens_comp}\")\n",
    "\n",
    "# Example: Create a list of (number, square) tuples\n",
    "num_square_pairs = [(x, x**2) for x in range(1, 6)]\n",
    "print(f\"Number-square pairs: {num_square_pairs}\")"
   ]
  },
  {
   "cell_type": "code",
   "execution_count": 43,
   "id": "37f8bc08",
   "metadata": {},
   "outputs": [
    {
     "name": "stdout",
     "output_type": "stream",
     "text": [
      "The Zen of Python, by Tim Peters\n",
      "\n",
      "Beautiful is better than ugly.\n",
      "Explicit is better than implicit.\n",
      "Simple is better than complex.\n",
      "Complex is better than complicated.\n",
      "Flat is better than nested.\n",
      "Sparse is better than dense.\n",
      "Readability counts.\n",
      "Special cases aren't special enough to break the rules.\n",
      "Although practicality beats purity.\n",
      "Errors should never pass silently.\n",
      "Unless explicitly silenced.\n",
      "In the face of ambiguity, refuse the temptation to guess.\n",
      "There should be one-- and preferably only one --obvious way to do it.\n",
      "Although that way may not be obvious at first unless you're Dutch.\n",
      "Now is better than never.\n",
      "Although never is often better than *right* now.\n",
      "If the implementation is hard to explain, it's a bad idea.\n",
      "If the implementation is easy to explain, it may be a good idea.\n",
      "Namespaces are one honking great idea -- let's do more of those!\n"
     ]
    }
   ],
   "source": [
    "import this"
   ]
  },
  {
   "cell_type": "code",
   "execution_count": null,
   "id": "e533ad3f",
   "metadata": {},
   "outputs": [],
   "source": []
  }
 ],
 "metadata": {
  "kernelspec": {
   "display_name": ".venv",
   "language": "python",
   "name": "python3"
  },
  "language_info": {
   "codemirror_mode": {
    "name": "ipython",
    "version": 3
   },
   "file_extension": ".py",
   "mimetype": "text/x-python",
   "name": "python",
   "nbconvert_exporter": "python",
   "pygments_lexer": "ipython3",
   "version": "3.12.10"
  }
 },
 "nbformat": 4,
 "nbformat_minor": 5
}
