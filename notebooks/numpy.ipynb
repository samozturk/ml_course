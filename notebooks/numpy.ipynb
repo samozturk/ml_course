{
 "cells": [
  {
   "cell_type": "code",
   "execution_count": 47,
   "id": "920a37d0",
   "metadata": {},
   "outputs": [
    {
     "name": "stdout",
     "output_type": "stream",
     "text": [
      "--- NumPy Arrays ---\n",
      "1D NumPy array from list: [1 2 3 4 5], type: <class 'numpy.ndarray'>, dtype: int64\n",
      "\n",
      "2D NumPy array:\n",
      "[[ 1  2  3]\n",
      " [ 4  5  6]\n",
      " [ 7  8  9]\n",
      " [10 11 12]]\n",
      "Shape: (4, 3), Dimensions: 2, Size: 12\n"
     ]
    }
   ],
   "source": [
    "import numpy as np\n",
    "import pandas as pd\n",
    "\n",
    "# --- NumPy Arrays ---\n",
    "print(\"--- NumPy Arrays ---\")\n",
    "# Creating NumPy arrays\n",
    "list_data = [1, 2, 3, 4, 5]\n",
    "np_array1 = np.array(list_data)\n",
    "print(f\"1D NumPy array from list: {np_array1}, type: {type(np_array1)}, dtype: {np_array1.dtype}\")\n",
    "\n",
    "list_of_lists = [[1, 2, 3], [4, 5, 6], [7, 8, 9], [10, 11, 12]]\n",
    "np_array2d = np.array(list_of_lists)\n",
    "print(f\"\\n2D NumPy array:\\n{np_array2d}\")\n",
    "print(f\"Shape: {np_array2d.shape}, Dimensions: {np_array2d.ndim}, Size: {np_array2d.size}\")\n"
   ]
  },
  {
   "cell_type": "code",
   "execution_count": 51,
   "id": "14f9666b",
   "metadata": {},
   "outputs": [
    {
     "data": {
      "text/plain": [
       "array([[1],\n",
       "       [2],\n",
       "       [3],\n",
       "       [4],\n",
       "       [5]])"
      ]
     },
     "execution_count": 51,
     "metadata": {},
     "output_type": "execute_result"
    }
   ],
   "source": [
    "np_array1.reshape(5, -1)"
   ]
  },
  {
   "cell_type": "code",
   "execution_count": null,
   "id": "6d2cbd55",
   "metadata": {},
   "outputs": [
    {
     "data": {
      "text/plain": [
       "256"
      ]
     },
     "execution_count": 56,
     "metadata": {},
     "output_type": "execute_result"
    }
   ],
   "source": [
    "\n",
    "np_array2d\n",
    "# 3, 4 -> 1\n",
    "# \n",
    "# 480 x 640\n",
    "0 -> 255\n"
   ]
  },
  {
   "cell_type": "code",
   "execution_count": 55,
   "id": "4de8684b",
   "metadata": {},
   "outputs": [
    {
     "data": {
      "text/plain": [
       "array([[ 1,  2,  3,  4,  5,  6],\n",
       "       [ 7,  8,  9, 10, 11, 12]])"
      ]
     },
     "execution_count": 55,
     "metadata": {},
     "output_type": "execute_result"
    }
   ],
   "source": [
    "np_array2d.reshape(2, 6)"
   ]
  },
  {
   "cell_type": "code",
   "execution_count": null,
   "id": "b21f7650",
   "metadata": {},
   "outputs": [
    {
     "ename": "ValueError",
     "evalue": "setting an array element with a sequence. The requested array has an inhomogeneous shape after 1 dimensions. The detected shape was (2,) + inhomogeneous part.",
     "output_type": "error",
     "traceback": [
      "\u001b[31m---------------------------------------------------------------------------\u001b[39m",
      "\u001b[31mValueError\u001b[39m                                Traceback (most recent call last)",
      "\u001b[36mCell\u001b[39m\u001b[36m \u001b[39m\u001b[32mIn[60]\u001b[39m\u001b[32m, line 3\u001b[39m\n\u001b[32m      1\u001b[39m scalar = np.array(\u001b[32m5\u001b[39m) \u001b[38;5;66;03m# -> 0 dimensional array\u001b[39;00m\n\u001b[32m      2\u001b[39m vector = np.array([\u001b[32m1\u001b[39m, \u001b[32m2\u001b[39m, \u001b[32m3\u001b[39m]) \u001b[38;5;66;03m# -> 1 dimensional array\u001b[39;00m\n\u001b[32m----> \u001b[39m\u001b[32m3\u001b[39m matrix = \u001b[43mnp\u001b[49m\u001b[43m.\u001b[49m\u001b[43marray\u001b[49m\u001b[43m(\u001b[49m\u001b[43m[\u001b[49m\u001b[43m[\u001b[49m\u001b[32;43m1\u001b[39;49m\u001b[43m,\u001b[49m\u001b[43m \u001b[49m\u001b[32;43m2\u001b[39;49m\u001b[43m]\u001b[49m\u001b[43m,\u001b[49m\u001b[43m \u001b[49m\u001b[43m[\u001b[49m\u001b[32;43m4\u001b[39;49m\u001b[43m]\u001b[49m\u001b[43m]\u001b[49m\u001b[43m)\u001b[49m \u001b[38;5;66;03m# -> 2 dimensional array\u001b[39;00m\n\u001b[32m      4\u001b[39m matrix\n",
      "\u001b[31mValueError\u001b[39m: setting an array element with a sequence. The requested array has an inhomogeneous shape after 1 dimensions. The detected shape was (2,) + inhomogeneous part."
     ]
    }
   ],
   "source": [
    "scalar = np.array(5) # -> 0 dimensional array\n",
    "vector = np.array([1, 2, 3]) # -> 1 dimensional array\n",
    "matrix = np.array([[1, 2], [4]]) # -> 2 dimensional array\n",
    "matrix"
   ]
  },
  {
   "cell_type": "code",
   "execution_count": 57,
   "id": "e2a9db8e",
   "metadata": {},
   "outputs": [
    {
     "name": "stdout",
     "output_type": "stream",
     "text": [
      "\n",
      "Zeros array (2x3):\n",
      "[[0. 0. 0.]\n",
      " [0. 0. 0.]]\n",
      "\n",
      "Range array (0-10, step 2): [0 2 4 6 8]\n",
      "\n",
      "Linspace array (0-1, 5 samples): [0.   0.25 0.5  0.75 1.  ]\n",
      "\n",
      "Random array (2x2):\n",
      "[[0.98837465 0.12992279]\n",
      " [0.08219533 0.26681372]]\n"
     ]
    }
   ],
   "source": [
    "\n",
    "# Special arrays\n",
    "zeros_array = np.zeros((2, 3)) # Array of all zeros\n",
    "ones_array = np.ones((3, 2))   # Array of all ones\n",
    "eye_array = np.eye(3)          # Identity matrix\n",
    "range_array = np.arange(0, 10, 2) # Like Python's range, but returns an array (start, stop, step)\n",
    "linspace_array = np.linspace(0, 1, 5) # Array of evenly spaced values (start, stop, num_samples)\n",
    "random_array = np.random.rand(2, 2) # Random values in [0, 1)\n",
    "random_int_array = np.random.randint(0, 10, size=(3,3)) # Random integers\n",
    "\n",
    "print(f\"\\nZeros array (2x3):\\n{zeros_array}\")\n",
    "print(f\"\\nRange array (0-10, step 2): {range_array}\")\n",
    "print(f\"\\nLinspace array (0-1, 5 samples): {linspace_array}\")\n",
    "print(f\"\\nRandom array (2x2):\\n{random_array}\")\n"
   ]
  },
  {
   "cell_type": "code",
   "execution_count": 59,
   "id": "33e1f2c6",
   "metadata": {},
   "outputs": [
    {
     "data": {
      "text/plain": [
       "array([[1, 2],\n",
       "       [3, 4]])"
      ]
     },
     "execution_count": 59,
     "metadata": {},
     "output_type": "execute_result"
    }
   ],
   "source": [
    "matrix"
   ]
  },
  {
   "cell_type": "code",
   "execution_count": 65,
   "id": "6ea1cc02",
   "metadata": {},
   "outputs": [
    {
     "name": "stdout",
     "output_type": "stream",
     "text": [
      "\n",
      "--- Array Indexing and Slicing ---\n",
      "Original array: [10 11 12 13 14 15 16 17 18 19]\n",
      "Element at index 3: 13\n",
      "Slice from index 2 to 5 (exclusive): [12 13 14]\n",
      "Array after broadcast assignment: [10 11 12 13 14 15 16 17 18 19]\n"
     ]
    }
   ],
   "source": [
    "\n",
    "# --- Array Indexing and Slicing (similar to lists, but more powerful) ---\n",
    "print(\"\\n--- Array Indexing and Slicing ---\")\n",
    "arr = np.arange(10, 20)\n",
    "print(f\"Original array: {arr}\")\n",
    "print(f\"Element at index 3: {arr[3]}\")\n",
    "print(f\"Slice from index 2 to 5 (exclusive): {arr[2:5]}\")\n",
    "# arr[2:5] = 100 # Assign a scalar to a slice\n",
    "print(f\"Array after broadcast assignment: {arr}\")\n",
    "\n"
   ]
  },
  {
   "cell_type": "code",
   "execution_count": 72,
   "id": "135a8a98",
   "metadata": {},
   "outputs": [
    {
     "data": {
      "text/plain": [
       "array([[1, 2, 3],\n",
       "       [4, 5, 6],\n",
       "       [7, 8, 9]])"
      ]
     },
     "execution_count": 72,
     "metadata": {},
     "output_type": "execute_result"
    }
   ],
   "source": [
    "arr2d"
   ]
  },
  {
   "cell_type": "code",
   "execution_count": 69,
   "id": "df4e0d92",
   "metadata": {},
   "outputs": [
    {
     "data": {
      "text/plain": [
       "array([[False, False, False],\n",
       "       [False, False,  True],\n",
       "       [ True,  True,  True]])"
      ]
     },
     "execution_count": 69,
     "metadata": {},
     "output_type": "execute_result"
    }
   ],
   "source": [
    "arr2d\n",
    "bool_idx = arr2d > 5\n",
    "bool_idx"
   ]
  },
  {
   "cell_type": "code",
   "execution_count": 74,
   "id": "e812da9b",
   "metadata": {},
   "outputs": [
    {
     "data": {
      "text/plain": [
       "array([[False, False, False],\n",
       "       [False, False,  True],\n",
       "       [ True,  True,  True]])"
      ]
     },
     "execution_count": 74,
     "metadata": {},
     "output_type": "execute_result"
    }
   ],
   "source": [
    "bool_idx"
   ]
  },
  {
   "cell_type": "code",
   "execution_count": 93,
   "id": "b89f5b43",
   "metadata": {},
   "outputs": [
    {
     "name": "stdout",
     "output_type": "stream",
     "text": [
      "\n",
      "--- Vectorization ---\n",
      "Array a: [1 2 3]\n",
      "Array b: [4 5 6]\n",
      "a + b (element-wise sum): [5 7 9]\n",
      "a * 2 (scalar multiplication): [2 4 6]\n",
      "a ** 2 (element-wise square): [1 4 9]\n",
      "np.sin(a) (universal function): [0.84147098 0.90929743 0.14112001]\n"
     ]
    }
   ],
   "source": [
    "\n",
    "# --- Vectorization (Element-wise operations) ---\n",
    "print(\"\\n--- Vectorization ---\")\n",
    "a = np.array([1, 2, 3])\n",
    "b = np.array([4, 5, 6])\n",
    "\n",
    "print(f\"Array a: {a}\")\n",
    "print(f\"Array b: {b}\")\n",
    "print(f\"a + b (element-wise sum): {a + b}\")\n",
    "print(f\"a * 2 (scalar multiplication): {a * 2}\")\n",
    "print(f\"a ** 2 (element-wise square): {a ** 2}\")\n",
    "print(f\"np.sin(a) (universal function): {np.sin(a)}\")"
   ]
  },
  {
   "cell_type": "code",
   "execution_count": 94,
   "id": "c6a75d6c",
   "metadata": {},
   "outputs": [
    {
     "name": "stdout",
     "output_type": "stream",
     "text": [
      "[1 2 3]\n",
      "[4 5 6]\n"
     ]
    }
   ],
   "source": [
    "print(a)\n",
    "print(b)"
   ]
  },
  {
   "cell_type": "code",
   "execution_count": 89,
   "id": "9aaf8a43",
   "metadata": {},
   "outputs": [
    {
     "data": {
      "text/plain": [
       "array([5, 7, 9])"
      ]
     },
     "execution_count": 89,
     "metadata": {},
     "output_type": "execute_result"
    }
   ],
   "source": [
    "a + b"
   ]
  },
  {
   "cell_type": "code",
   "execution_count": 97,
   "id": "f0bae3a2",
   "metadata": {},
   "outputs": [
    {
     "data": {
      "text/plain": [
       "array([0.        , 0.69314718, 1.09861229])"
      ]
     },
     "execution_count": 97,
     "metadata": {},
     "output_type": "execute_result"
    }
   ],
   "source": [
    "np.log(a)"
   ]
  },
  {
   "cell_type": "code",
   "execution_count": null,
   "id": "3b732731",
   "metadata": {},
   "outputs": [],
   "source": []
  },
  {
   "cell_type": "code",
   "execution_count": 98,
   "id": "4f2cf8b7",
   "metadata": {},
   "outputs": [
    {
     "name": "stdout",
     "output_type": "stream",
     "text": [
      "\n",
      "Array A:\n",
      "[[1 2]\n",
      " [3 4]]\n",
      "Array B:\n",
      "[[5 6]\n",
      " [7 8]]\n",
      "A + B (element-wise sum):\n",
      "[[ 6  8]\n",
      " [10 12]]\n",
      "A * B (element-wise product, NOT matrix multiplication):\n",
      "[[ 5 12]\n",
      " [21 32]]\n",
      "Matrix multiplication (dot product) A @ B or np.dot(A,B):\n",
      "[[19 22]\n",
      " [43 50]]\n"
     ]
    }
   ],
   "source": [
    "# Mathematical operations on 2D arrays\n",
    "arr_A = np.array([[1,2],[3,4]])\n",
    "arr_B = np.array([[5,6],[7,8]])\n",
    "print(f\"\\nArray A:\\n{arr_A}\")\n",
    "print(f\"Array B:\\n{arr_B}\")\n",
    "print(f\"A + B (element-wise sum):\\n{arr_A + arr_B}\")\n",
    "print(f\"A * B (element-wise product, NOT matrix multiplication):\\n{arr_A * arr_B}\")\n",
    "print(f\"Matrix multiplication (dot product) A @ B or np.dot(A,B):\\n{arr_A @ arr_B}\") # or np.dot(arr_A, arr_B)"
   ]
  },
  {
   "cell_type": "code",
   "execution_count": null,
   "id": "ff3baee0",
   "metadata": {},
   "outputs": [],
   "source": []
  },
  {
   "cell_type": "code",
   "execution_count": 16,
   "id": "e7c599b0",
   "metadata": {},
   "outputs": [
    {
     "name": "stdout",
     "output_type": "stream",
     "text": [
      "\n",
      "--- Aggregation Functions ---\n",
      "Sum of big_array: -26.928780400818255 or -26.928780400818255\n",
      "Mean of big_array: -0.026928780400818256\n",
      "Std dev of big_array: 1.0293751503384858\n",
      "Min/Max of big_array: -3.6835192693961543, 2.958480414048263\n",
      "\n",
      "arr2d_agg:\n",
      "[[1 5 3]\n",
      " [4 2 6]]\n",
      "Sum of all elements: 21\n",
      "Sum along columns (axis=0): [5 7 9]\n",
      "Sum along rows (axis=1): [ 9 12]\n"
     ]
    }
   ],
   "source": [
    "\n",
    "# --- Aggregation functions ---\n",
    "print(\"\\n--- Aggregation Functions ---\")\n",
    "big_array = np.random.randn(1000) # 1000 random numbers from standard normal distribution\n",
    "print(f\"Sum of big_array: {big_array.sum()} or {np.sum(big_array)}\")\n",
    "print(f\"Mean of big_array: {big_array.mean()}\")\n",
    "print(f\"Std dev of big_array: {big_array.std()}\")\n",
    "print(f\"Min/Max of big_array: {big_array.min()}, {big_array.max()}\")\n",
    "\n",
    "arr2d_agg = np.array([[1,5,3],[4,2,6]])\n",
    "print(f\"\\narr2d_agg:\\n{arr2d_agg}\")\n",
    "print(f\"Sum of all elements: {arr2d_agg.sum()}\")\n",
    "print(f\"Sum along columns (axis=0): {arr2d_agg.sum(axis=0)}\") # Result is [1+4, 5+2, 3+6]\n",
    "print(f\"Sum along rows (axis=1): {arr2d_agg.sum(axis=1)}\")   # Result is [1+5+3, 4+2+6]"
   ]
  },
  {
   "cell_type": "code",
   "execution_count": 20,
   "id": "cbd2dc96",
   "metadata": {},
   "outputs": [
    {
     "name": "stdout",
     "output_type": "stream",
     "text": [
      "\n",
      "--- Reshaping Arrays ---\n",
      "Original array (1D, 12 elements): [ 1  2  3  4  5  6  7  8  9 10 11 12]\n",
      "Reshaped to 3x4:\n",
      "[[ 1  2  3  4]\n",
      " [ 5  6  7  8]\n",
      " [ 9 10 11 12]]\n",
      "Reshaped to 2x2x3:\n",
      "[[[ 1  2  3]\n",
      "  [ 4  5  6]]\n",
      "\n",
      " [[ 7  8  9]\n",
      "  [10 11 12]]]\n"
     ]
    }
   ],
   "source": [
    "\n",
    "# --- Reshaping Arrays ---\n",
    "print(\"\\n--- Reshaping Arrays ---\")\n",
    "original = np.arange(1, 13) # 1 to 12\n",
    "print(f\"Original array (1D, 12 elements): {original}\")\n",
    "reshaped1 = original.reshape(3, 4) # Reshape to 3 rows, 4 columns\n",
    "print(f\"Reshaped to 3x4:\\n{reshaped1}\")\n",
    "reshaped2 = original.reshape(2, 2, 3) # Reshape to 2 blocks of 2x3 matrices\n",
    "print(f\"Reshaped to 2x2x3:\\n{reshaped2}\")\n",
    "# Use -1 to infer one dimension: original.reshape(4, -1) will be 4x3"
   ]
  },
  {
   "cell_type": "code",
   "execution_count": 21,
   "id": "870a6c0a",
   "metadata": {},
   "outputs": [
    {
     "name": "stdout",
     "output_type": "stream",
     "text": [
      "Flattened array: [ 1  2  3  4  5  6  7  8  9 10 11 12]\n"
     ]
    }
   ],
   "source": [
    "\n",
    "# Flatten an array\n",
    "flattened = reshaped1.flatten() # Creates a copy\n",
    "raveled = reshaped1.ravel()     # May return a view if possible (more memory efficient)\n",
    "print(f\"Flattened array: {flattened}\")"
   ]
  },
  {
   "cell_type": "code",
   "execution_count": 26,
   "id": "00fe123b",
   "metadata": {},
   "outputs": [
    {
     "name": "stdout",
     "output_type": "stream",
     "text": [
      "\n",
      "--- Pandas Integration with NumPy ---\n",
      "DataFrame created with NumPy arrays:\n",
      "          A  B  C\n",
      "0  0.267175  2  x\n",
      "1  0.547608  8  y\n",
      "2  0.002078  8  z\n",
      "3  0.836983  2  x\n",
      "4  0.312283  6  y\n",
      "\n",
      "Column 'A' as NumPy array: [0.26717506 0.54760845 0.00207813 0.83698349 0.31228296], type: <class 'numpy.ndarray'>\n"
     ]
    }
   ],
   "source": [
    "# --- Pandas Integration ---\n",
    "print(\"\\n--- Pandas Integration with NumPy ---\")\n",
    "# Pandas uses NumPy arrays under the hood for its Series and DataFrames\n",
    "df = pd.DataFrame({\n",
    "    'A': np.random.rand(5),\n",
    "    'B': np.random.randint(1, 10, size=5),\n",
    "    'C': ['x', 'y', 'z', 'x', 'y']\n",
    "})\n",
    "print(\"DataFrame created with NumPy arrays:\")\n",
    "print(df)\n",
    "\n",
    "# Get NumPy array from a DataFrame column (Series)\n",
    "col_A_np = df['A'].to_numpy() # Recommended way\n",
    "# col_A_np_values = df['A'].values # Older way, still works\n",
    "print(f\"\\nColumn 'A' as NumPy array: {col_A_np}, type: {type(col_A_np)}\")\n",
    "\n"
   ]
  },
  {
   "cell_type": "code",
   "execution_count": 28,
   "id": "f554b779",
   "metadata": {},
   "outputs": [
    {
     "name": "stdout",
     "output_type": "stream",
     "text": [
      "\n",
      "DataFrame (cols A, B) as NumPy array:\n",
      "[[2.67175063e-01 2.00000000e+00]\n",
      " [5.47608446e-01 8.00000000e+00]\n",
      " [2.07813322e-03 8.00000000e+00]\n",
      " [8.36983494e-01 2.00000000e+00]\n",
      " [3.12282960e-01 6.00000000e+00]]\n",
      "\n",
      "Original Series: \n",
      "0     1\n",
      "1     4\n",
      "2     9\n",
      "3    16\n",
      "dtype: int64\n",
      "Square root of Series using NumPy:\n",
      "0    1.0\n",
      "1    2.0\n",
      "2    3.0\n",
      "3    4.0\n",
      "dtype: float64\n"
     ]
    }
   ],
   "source": [
    "# Get NumPy array from the entire DataFrame\n",
    "df_np = df[['A', 'B']].to_numpy() # For selected numerical columns\n",
    "print(f\"\\nDataFrame (cols A, B) as NumPy array:\\n{df_np}\")\n",
    "\n",
    "# Applying NumPy ufuncs to Pandas Series\n",
    "series = pd.Series([1, 4, 9, 16])\n",
    "print(f\"\\nOriginal Series: \\n{series}\")\n",
    "sqrt_series_np = np.sqrt(series) # Applying NumPy's sqrt function\n",
    "print(f\"Square root of Series using NumPy:\\n{sqrt_series_np}\")"
   ]
  },
  {
   "cell_type": "code",
   "execution_count": 100,
   "id": "072155e5",
   "metadata": {},
   "outputs": [
    {
     "data": {
      "text/html": [
       "<div>\n",
       "<style scoped>\n",
       "    .dataframe tbody tr th:only-of-type {\n",
       "        vertical-align: middle;\n",
       "    }\n",
       "\n",
       "    .dataframe tbody tr th {\n",
       "        vertical-align: top;\n",
       "    }\n",
       "\n",
       "    .dataframe thead th {\n",
       "        text-align: right;\n",
       "    }\n",
       "</style>\n",
       "<table border=\"1\" class=\"dataframe\">\n",
       "  <thead>\n",
       "    <tr style=\"text-align: right;\">\n",
       "      <th></th>\n",
       "      <th>key</th>\n",
       "      <th>B</th>\n",
       "    </tr>\n",
       "  </thead>\n",
       "  <tbody>\n",
       "    <tr>\n",
       "      <th>0</th>\n",
       "      <td>K0</td>\n",
       "      <td>B0</td>\n",
       "    </tr>\n",
       "    <tr>\n",
       "      <th>1</th>\n",
       "      <td>K1</td>\n",
       "      <td>B1</td>\n",
       "    </tr>\n",
       "    <tr>\n",
       "      <th>2</th>\n",
       "      <td>K3</td>\n",
       "      <td>B3</td>\n",
       "    </tr>\n",
       "  </tbody>\n",
       "</table>\n",
       "</div>"
      ],
      "text/plain": [
       "  key   B\n",
       "0  K0  B0\n",
       "1  K1  B1\n",
       "2  K3  B3"
      ]
     },
     "execution_count": 100,
     "metadata": {},
     "output_type": "execute_result"
    }
   ],
   "source": [
    "# --- Merging/Joining DataFrames (Recap/Extend Pandas section if needed) ---\n",
    "# This is more Pandas than NumPy, but often used together\n",
    "left_df = pd.DataFrame({'key': ['K0', 'K1', 'K2'], 'A': ['A0', 'A1', 'A2']})\n",
    "right_df = pd.DataFrame({'key': ['K0', 'K1', 'K3'], 'B': ['B0', 'B1', 'B3']})\n",
    "right_df"
   ]
  },
  {
   "cell_type": "code",
   "execution_count": null,
   "id": "6c77a536",
   "metadata": {},
   "outputs": [
    {
     "name": "stdout",
     "output_type": "stream",
     "text": [
      "\n",
      "Left DataFrame:\n",
      "  key   A\n",
      "0  K0  A0\n",
      "1  K1  A1\n",
      "2  K2  A2\n",
      "Right DataFrame:\n",
      "  key   B\n",
      "0  K0  B0\n",
      "1  K1  B1\n",
      "2  K3  B3\n"
     ]
    }
   ],
   "source": [
    "\n",
    "\n",
    "\n",
    "print(f\"\\nLeft DataFrame:\\n{left_df}\")\n",
    "print(f\"Right DataFrame:\\n{right_df}\")\n",
    "\n"
   ]
  },
  {
   "cell_type": "code",
   "execution_count": 30,
   "id": "bb355745",
   "metadata": {},
   "outputs": [
    {
     "name": "stdout",
     "output_type": "stream",
     "text": [
      "\n",
      "Inner merge on 'key':\n",
      "  key   A   B\n",
      "0  K0  A0  B0\n",
      "1  K1  A1  B1\n",
      "\n",
      "Left merge on 'key':\n",
      "  key   A    B\n",
      "0  K0  A0   B0\n",
      "1  K1  A1   B1\n",
      "2  K2  A2  NaN\n"
     ]
    }
   ],
   "source": [
    "# Merge (like SQL join)\n",
    "merged_inner = pd.merge(left_df, right_df, on='key', how='inner')\n",
    "print(f\"\\nInner merge on 'key':\\n{merged_inner}\")\n",
    "\n",
    "merged_left = pd.merge(left_df, right_df, on='key', how='left')\n",
    "print(f\"\\nLeft merge on 'key':\\n{merged_left}\")"
   ]
  },
  {
   "cell_type": "code",
   "execution_count": 34,
   "id": "8a8ecd95",
   "metadata": {},
   "outputs": [
    {
     "data": {
      "text/html": [
       "<div>\n",
       "<style scoped>\n",
       "    .dataframe tbody tr th:only-of-type {\n",
       "        vertical-align: middle;\n",
       "    }\n",
       "\n",
       "    .dataframe tbody tr th {\n",
       "        vertical-align: top;\n",
       "    }\n",
       "\n",
       "    .dataframe thead th {\n",
       "        text-align: right;\n",
       "    }\n",
       "</style>\n",
       "<table border=\"1\" class=\"dataframe\">\n",
       "  <thead>\n",
       "    <tr style=\"text-align: right;\">\n",
       "      <th></th>\n",
       "      <th>A</th>\n",
       "      <th>B</th>\n",
       "    </tr>\n",
       "  </thead>\n",
       "  <tbody>\n",
       "    <tr>\n",
       "      <th>0</th>\n",
       "      <td>1</td>\n",
       "      <td>3</td>\n",
       "    </tr>\n",
       "    <tr>\n",
       "      <th>1</th>\n",
       "      <td>2</td>\n",
       "      <td>4</td>\n",
       "    </tr>\n",
       "    <tr>\n",
       "      <th>0</th>\n",
       "      <td>5</td>\n",
       "      <td>7</td>\n",
       "    </tr>\n",
       "    <tr>\n",
       "      <th>1</th>\n",
       "      <td>6</td>\n",
       "      <td>8</td>\n",
       "    </tr>\n",
       "  </tbody>\n",
       "</table>\n",
       "</div>"
      ],
      "text/plain": [
       "   A  B\n",
       "0  1  3\n",
       "1  2  4\n",
       "0  5  7\n",
       "1  6  8"
      ]
     },
     "execution_count": 34,
     "metadata": {},
     "output_type": "execute_result"
    }
   ],
   "source": [
    "# Concatenation\n",
    "df1 = pd.DataFrame({'A': [1,2], 'B': [3,4]})\n",
    "df2 = pd.DataFrame({'A': [5,6], 'B': [7,8]})\n",
    "concatenated_rows = pd.concat([df1, df2], axis=0) # axis=0 for rows (default)\n",
    "concatenated_rows"
   ]
  },
  {
   "cell_type": "code",
   "execution_count": 35,
   "id": "3c71c4f8",
   "metadata": {},
   "outputs": [
    {
     "data": {
      "text/html": [
       "<div>\n",
       "<style scoped>\n",
       "    .dataframe tbody tr th:only-of-type {\n",
       "        vertical-align: middle;\n",
       "    }\n",
       "\n",
       "    .dataframe tbody tr th {\n",
       "        vertical-align: top;\n",
       "    }\n",
       "\n",
       "    .dataframe thead th {\n",
       "        text-align: right;\n",
       "    }\n",
       "</style>\n",
       "<table border=\"1\" class=\"dataframe\">\n",
       "  <thead>\n",
       "    <tr style=\"text-align: right;\">\n",
       "      <th></th>\n",
       "      <th>A</th>\n",
       "      <th>B</th>\n",
       "      <th>A</th>\n",
       "      <th>B</th>\n",
       "    </tr>\n",
       "  </thead>\n",
       "  <tbody>\n",
       "    <tr>\n",
       "      <th>0</th>\n",
       "      <td>1</td>\n",
       "      <td>3</td>\n",
       "      <td>5</td>\n",
       "      <td>7</td>\n",
       "    </tr>\n",
       "    <tr>\n",
       "      <th>1</th>\n",
       "      <td>2</td>\n",
       "      <td>4</td>\n",
       "      <td>6</td>\n",
       "      <td>8</td>\n",
       "    </tr>\n",
       "  </tbody>\n",
       "</table>\n",
       "</div>"
      ],
      "text/plain": [
       "   A  B  A  B\n",
       "0  1  3  5  7\n",
       "1  2  4  6  8"
      ]
     },
     "execution_count": 35,
     "metadata": {},
     "output_type": "execute_result"
    }
   ],
   "source": [
    "concatenated_cols = pd.concat([df1, df2.reset_index(drop=True)], axis=1) # axis=1 for columns, ensure index align\n",
    "concatenated_cols"
   ]
  },
  {
   "cell_type": "code",
   "execution_count": null,
   "id": "9198f114",
   "metadata": {},
   "outputs": [],
   "source": []
  }
 ],
 "metadata": {
  "kernelspec": {
   "display_name": ".venv",
   "language": "python",
   "name": "python3"
  },
  "language_info": {
   "codemirror_mode": {
    "name": "ipython",
    "version": 3
   },
   "file_extension": ".py",
   "mimetype": "text/x-python",
   "name": "python",
   "nbconvert_exporter": "python",
   "pygments_lexer": "ipython3",
   "version": "3.12.10"
  }
 },
 "nbformat": 4,
 "nbformat_minor": 5
}
