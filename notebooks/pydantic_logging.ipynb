{
 "cells": [
  {
   "cell_type": "code",
   "execution_count": 36,
   "id": "99b64d72",
   "metadata": {},
   "outputs": [
    {
     "name": "stdout",
     "output_type": "stream",
     "text": [
      "id=1 name='Alice' email='alice@example.com'\n"
     ]
    }
   ],
   "source": [
    "from pydantic import BaseModel\n",
    "\n",
    "class User(BaseModel):\n",
    "    id: int\n",
    "    name: str\n",
    "    email: str\n",
    "\n",
    "# Example input\n",
    "user = User(id=1, name=\"Alice\", email=\"alice@example.com\")\n",
    "print(user)"
   ]
  },
  {
   "cell_type": "code",
   "execution_count": 38,
   "id": "51cc1f88",
   "metadata": {},
   "outputs": [
    {
     "ename": "ValidationError",
     "evalue": "3 validation errors for User\nid\n  Input should be a valid integer, unable to parse string as an integer [type=int_parsing, input_value='not-an-int', input_type=str]\n    For further information visit https://errors.pydantic.dev/2.11/v/int_parsing\nname\n  Input should be a valid string [type=string_type, input_value=123, input_type=int]\n    For further information visit https://errors.pydantic.dev/2.11/v/string_type\nemail\n  Input should be a valid string [type=string_type, input_value=True, input_type=bool]\n    For further information visit https://errors.pydantic.dev/2.11/v/string_type",
     "output_type": "error",
     "traceback": [
      "\u001b[31m---------------------------------------------------------------------------\u001b[39m",
      "\u001b[31mValidationError\u001b[39m                           Traceback (most recent call last)",
      "\u001b[36mCell\u001b[39m\u001b[36m \u001b[39m\u001b[32mIn[38]\u001b[39m\u001b[32m, line 1\u001b[39m\n\u001b[32m----> \u001b[39m\u001b[32m1\u001b[39m \u001b[43mUser\u001b[49m\u001b[43m(\u001b[49m\u001b[38;5;28;43mid\u001b[39;49m\u001b[43m=\u001b[49m\u001b[33;43m\"\u001b[39;49m\u001b[33;43mnot-an-int\u001b[39;49m\u001b[33;43m\"\u001b[39;49m\u001b[43m,\u001b[49m\u001b[43m \u001b[49m\u001b[43mname\u001b[49m\u001b[43m=\u001b[49m\u001b[32;43m123\u001b[39;49m\u001b[43m,\u001b[49m\u001b[43m \u001b[49m\u001b[43memail\u001b[49m\u001b[43m=\u001b[49m\u001b[38;5;28;43;01mTrue\u001b[39;49;00m\u001b[43m)\u001b[49m\n",
      "\u001b[36mFile \u001b[39m\u001b[32m~/Documents/codes/ml_course/.venv/lib/python3.12/site-packages/pydantic/main.py:253\u001b[39m, in \u001b[36mBaseModel.__init__\u001b[39m\u001b[34m(self, **data)\u001b[39m\n\u001b[32m    251\u001b[39m \u001b[38;5;66;03m# `__tracebackhide__` tells pytest and some other tools to omit this function from tracebacks\u001b[39;00m\n\u001b[32m    252\u001b[39m __tracebackhide__ = \u001b[38;5;28;01mTrue\u001b[39;00m\n\u001b[32m--> \u001b[39m\u001b[32m253\u001b[39m validated_self = \u001b[38;5;28;43mself\u001b[39;49m\u001b[43m.\u001b[49m\u001b[43m__pydantic_validator__\u001b[49m\u001b[43m.\u001b[49m\u001b[43mvalidate_python\u001b[49m\u001b[43m(\u001b[49m\u001b[43mdata\u001b[49m\u001b[43m,\u001b[49m\u001b[43m \u001b[49m\u001b[43mself_instance\u001b[49m\u001b[43m=\u001b[49m\u001b[38;5;28;43mself\u001b[39;49m\u001b[43m)\u001b[49m\n\u001b[32m    254\u001b[39m \u001b[38;5;28;01mif\u001b[39;00m \u001b[38;5;28mself\u001b[39m \u001b[38;5;129;01mis\u001b[39;00m \u001b[38;5;129;01mnot\u001b[39;00m validated_self:\n\u001b[32m    255\u001b[39m     warnings.warn(\n\u001b[32m    256\u001b[39m         \u001b[33m'\u001b[39m\u001b[33mA custom validator is returning a value other than `self`.\u001b[39m\u001b[38;5;130;01m\\n\u001b[39;00m\u001b[33m'\u001b[39m\n\u001b[32m    257\u001b[39m         \u001b[33m\"\u001b[39m\u001b[33mReturning anything other than `self` from a top level model validator isn\u001b[39m\u001b[33m'\u001b[39m\u001b[33mt supported when validating via `__init__`.\u001b[39m\u001b[38;5;130;01m\\n\u001b[39;00m\u001b[33m\"\u001b[39m\n\u001b[32m    258\u001b[39m         \u001b[33m'\u001b[39m\u001b[33mSee the `model_validator` docs (https://docs.pydantic.dev/latest/concepts/validators/#model-validators) for more details.\u001b[39m\u001b[33m'\u001b[39m,\n\u001b[32m    259\u001b[39m         stacklevel=\u001b[32m2\u001b[39m,\n\u001b[32m    260\u001b[39m     )\n",
      "\u001b[31mValidationError\u001b[39m: 3 validation errors for User\nid\n  Input should be a valid integer, unable to parse string as an integer [type=int_parsing, input_value='not-an-int', input_type=str]\n    For further information visit https://errors.pydantic.dev/2.11/v/int_parsing\nname\n  Input should be a valid string [type=string_type, input_value=123, input_type=int]\n    For further information visit https://errors.pydantic.dev/2.11/v/string_type\nemail\n  Input should be a valid string [type=string_type, input_value=True, input_type=bool]\n    For further information visit https://errors.pydantic.dev/2.11/v/string_type"
     ]
    }
   ],
   "source": [
    "User(id=\"not-an-int\", name=123, email=True)\n"
   ]
  },
  {
   "cell_type": "code",
   "execution_count": 14,
   "id": "71999b8c",
   "metadata": {},
   "outputs": [
    {
     "name": "stdout",
     "output_type": "stream",
     "text": [
      "123\n"
     ]
    }
   ],
   "source": [
    "user = User(id='123', name='Bob', email='bob@example.com')\n",
    "print(user.id)  # 123 as int\n",
    "# Pydantic automatically converts types where possible (e.g., string to int), which is great for APIs and file inputs.\n"
   ]
  },
  {
   "cell_type": "code",
   "execution_count": 39,
   "id": "c738fcd4",
   "metadata": {},
   "outputs": [
    {
     "ename": "ValidationError",
     "evalue": "2 validation errors for User\nname\n  String should have at least 2 characters [type=string_too_short, input_value='A', input_type=str]\n    For further information visit https://errors.pydantic.dev/2.11/v/string_too_short\nemail\n  value is not a valid email address: An email address must have an @-sign. [type=value_error, input_value='invalid', input_type=str]",
     "output_type": "error",
     "traceback": [
      "\u001b[31m---------------------------------------------------------------------------\u001b[39m",
      "\u001b[31mValidationError\u001b[39m                           Traceback (most recent call last)",
      "\u001b[36mCell\u001b[39m\u001b[36m \u001b[39m\u001b[32mIn[39]\u001b[39m\u001b[32m, line 9\u001b[39m\n\u001b[32m      6\u001b[39m     email: EmailStr  \u001b[38;5;66;03m# Checks for proper email format\u001b[39;00m\n\u001b[32m      8\u001b[39m \u001b[38;5;66;03m# Will raise an error: name too short or invalid email\u001b[39;00m\n\u001b[32m----> \u001b[39m\u001b[32m9\u001b[39m \u001b[43mUser\u001b[49m\u001b[43m(\u001b[49m\u001b[38;5;28;43mid\u001b[39;49m\u001b[43m=\u001b[49m\u001b[32;43m1\u001b[39;49m\u001b[43m,\u001b[49m\u001b[43m \u001b[49m\u001b[43mname\u001b[49m\u001b[43m=\u001b[49m\u001b[33;43m\"\u001b[39;49m\u001b[33;43mA\u001b[39;49m\u001b[33;43m\"\u001b[39;49m\u001b[43m,\u001b[49m\u001b[43m \u001b[49m\u001b[43memail\u001b[49m\u001b[43m=\u001b[49m\u001b[33;43m\"\u001b[39;49m\u001b[33;43minvalid\u001b[39;49m\u001b[33;43m\"\u001b[39;49m\u001b[43m)\u001b[49m\n",
      "\u001b[36mFile \u001b[39m\u001b[32m~/Documents/codes/ml_course/.venv/lib/python3.12/site-packages/pydantic/main.py:253\u001b[39m, in \u001b[36mBaseModel.__init__\u001b[39m\u001b[34m(self, **data)\u001b[39m\n\u001b[32m    251\u001b[39m \u001b[38;5;66;03m# `__tracebackhide__` tells pytest and some other tools to omit this function from tracebacks\u001b[39;00m\n\u001b[32m    252\u001b[39m __tracebackhide__ = \u001b[38;5;28;01mTrue\u001b[39;00m\n\u001b[32m--> \u001b[39m\u001b[32m253\u001b[39m validated_self = \u001b[38;5;28;43mself\u001b[39;49m\u001b[43m.\u001b[49m\u001b[43m__pydantic_validator__\u001b[49m\u001b[43m.\u001b[49m\u001b[43mvalidate_python\u001b[49m\u001b[43m(\u001b[49m\u001b[43mdata\u001b[49m\u001b[43m,\u001b[49m\u001b[43m \u001b[49m\u001b[43mself_instance\u001b[49m\u001b[43m=\u001b[49m\u001b[38;5;28;43mself\u001b[39;49m\u001b[43m)\u001b[49m\n\u001b[32m    254\u001b[39m \u001b[38;5;28;01mif\u001b[39;00m \u001b[38;5;28mself\u001b[39m \u001b[38;5;129;01mis\u001b[39;00m \u001b[38;5;129;01mnot\u001b[39;00m validated_self:\n\u001b[32m    255\u001b[39m     warnings.warn(\n\u001b[32m    256\u001b[39m         \u001b[33m'\u001b[39m\u001b[33mA custom validator is returning a value other than `self`.\u001b[39m\u001b[38;5;130;01m\\n\u001b[39;00m\u001b[33m'\u001b[39m\n\u001b[32m    257\u001b[39m         \u001b[33m\"\u001b[39m\u001b[33mReturning anything other than `self` from a top level model validator isn\u001b[39m\u001b[33m'\u001b[39m\u001b[33mt supported when validating via `__init__`.\u001b[39m\u001b[38;5;130;01m\\n\u001b[39;00m\u001b[33m\"\u001b[39m\n\u001b[32m    258\u001b[39m         \u001b[33m'\u001b[39m\u001b[33mSee the `model_validator` docs (https://docs.pydantic.dev/latest/concepts/validators/#model-validators) for more details.\u001b[39m\u001b[33m'\u001b[39m,\n\u001b[32m    259\u001b[39m         stacklevel=\u001b[32m2\u001b[39m,\n\u001b[32m    260\u001b[39m     )\n",
      "\u001b[31mValidationError\u001b[39m: 2 validation errors for User\nname\n  String should have at least 2 characters [type=string_too_short, input_value='A', input_type=str]\n    For further information visit https://errors.pydantic.dev/2.11/v/string_too_short\nemail\n  value is not a valid email address: An email address must have an @-sign. [type=value_error, input_value='invalid', input_type=str]"
     ]
    }
   ],
   "source": [
    "from pydantic import BaseModel, EmailStr, constr\n",
    "\n",
    "class User(BaseModel):\n",
    "    id: int\n",
    "    name: constr(min_length=2)\n",
    "    email: EmailStr  # Checks for proper email format\n",
    "\n",
    "# Will raise an error: name too short or invalid email\n",
    "User(id=1, name=\"A\", email=\"invalid\")\n"
   ]
  },
  {
   "cell_type": "code",
   "execution_count": 40,
   "id": "2242d8aa",
   "metadata": {},
   "outputs": [],
   "source": [
    "class Address(BaseModel):\n",
    "    city: str\n",
    "    zip_code: str\n",
    "\n",
    "class User(BaseModel):\n",
    "    id: int\n",
    "    name: str\n",
    "    address: Address\n",
    "\n",
    "user = User(id=1, name=\"Alice\", address={\"city\": \"New York\", \"zip_code\": \"10001\"})\n",
    "# Pydantic automatically parses nested dictionaries into model instances.\n"
   ]
  },
  {
   "cell_type": "code",
   "execution_count": 41,
   "id": "c49c6f66",
   "metadata": {},
   "outputs": [
    {
     "data": {
      "text/html": [
       "<div>\n",
       "<style scoped>\n",
       "    .dataframe tbody tr th:only-of-type {\n",
       "        vertical-align: middle;\n",
       "    }\n",
       "\n",
       "    .dataframe tbody tr th {\n",
       "        vertical-align: top;\n",
       "    }\n",
       "\n",
       "    .dataframe thead th {\n",
       "        text-align: right;\n",
       "    }\n",
       "</style>\n",
       "<table border=\"1\" class=\"dataframe\">\n",
       "  <thead>\n",
       "    <tr style=\"text-align: right;\">\n",
       "      <th></th>\n",
       "      <th>id</th>\n",
       "      <th>name</th>\n",
       "      <th>email</th>\n",
       "    </tr>\n",
       "  </thead>\n",
       "  <tbody>\n",
       "    <tr>\n",
       "      <th>0</th>\n",
       "      <td>1</td>\n",
       "      <td>Alice</td>\n",
       "      <td>alice@example.com</td>\n",
       "    </tr>\n",
       "    <tr>\n",
       "      <th>1</th>\n",
       "      <td>two</td>\n",
       "      <td>Bob</td>\n",
       "      <td>bob[at]email.com</td>\n",
       "    </tr>\n",
       "  </tbody>\n",
       "</table>\n",
       "</div>"
      ],
      "text/plain": [
       "    id   name              email\n",
       "0    1  Alice  alice@example.com\n",
       "1  two    Bob   bob[at]email.com"
      ]
     },
     "execution_count": 41,
     "metadata": {},
     "output_type": "execute_result"
    }
   ],
   "source": [
    "import pandas as pd\n",
    "from pydantic import BaseModel, EmailStr, ValidationError\n",
    "\n",
    "class UserRow(BaseModel):\n",
    "    id: int\n",
    "    name: str\n",
    "    email: EmailStr\n",
    "\n",
    "# Load sample data\n",
    "df = pd.DataFrame([\n",
    "    {\"id\": 1, \"name\": \"Alice\", \"email\": \"alice@example.com\"},\n",
    "    {\"id\": \"two\", \"name\": \"Bob\", \"email\": \"bob[at]email.com\"},\n",
    "])\n",
    "\n",
    "df"
   ]
  },
  {
   "cell_type": "code",
   "execution_count": 42,
   "id": "713c3920",
   "metadata": {},
   "outputs": [
    {
     "name": "stdout",
     "output_type": "stream",
     "text": [
      "Validation failed for row id                    two\n",
      "name                  Bob\n",
      "email    bob[at]email.com\n",
      "Name: 1, dtype: object:\n",
      "2 validation errors for UserRow\n",
      "id\n",
      "  Input should be a valid integer, unable to parse string as an integer [type=int_parsing, input_value='two', input_type=str]\n",
      "    For further information visit https://errors.pydantic.dev/2.11/v/int_parsing\n",
      "email\n",
      "  value is not a valid email address: An email address must have an @-sign. [type=value_error, input_value='bob[at]email.com', input_type=str]\n",
      "\n"
     ]
    }
   ],
   "source": [
    "# Validate each row\n",
    "def validate_row(row):\n",
    "    try:\n",
    "        user = UserRow(**row)\n",
    "        return user\n",
    "    except ValidationError as e:\n",
    "        print(f\"Validation failed for row {row}:\\n{e}\\n\")\n",
    "        return None\n",
    "\n",
    "validated = df.apply(validate_row, axis=1)"
   ]
  },
  {
   "cell_type": "code",
   "execution_count": null,
   "id": "60cda76b",
   "metadata": {},
   "outputs": [],
   "source": []
  },
  {
   "cell_type": "markdown",
   "id": "56168d03",
   "metadata": {},
   "source": [
    "# Logging"
   ]
  },
  {
   "cell_type": "code",
   "execution_count": 43,
   "id": "e23b8651",
   "metadata": {},
   "outputs": [
    {
     "name": "stderr",
     "output_type": "stream",
     "text": [
      "INFO:__main__:Application started. This is an informational message.\n",
      "WARNING:__main__:A potential issue was detected, but the application can continue.\n",
      "ERROR:__main__:An error occurred. Something went wrong.\n",
      "CRITICAL:__main__:A critical error occurred. The application might be unable to continue.\n"
     ]
    },
    {
     "name": "stdout",
     "output_type": "stream",
     "text": [
      "\n",
      "--- Python Logging ---\n"
     ]
    }
   ],
   "source": [
    "# --- Part 2: Basic Logging with Python's logging module ---\n",
    "import logging\n",
    "import os\n",
    "\n",
    "# Configure logging\n",
    "# Create a logs directory if it doesn't exist\n",
    "LOG_DIR = \"logs\"\n",
    "if not os.path.exists(LOG_DIR):\n",
    "    os.makedirs(LOG_DIR)\n",
    "\n",
    "LOG_FILE = os.path.join(LOG_DIR, \"ml_course_app.log\")\n",
    "\n",
    "# Basic configuration:\n",
    "# - Level: DEBUG, INFO, WARNING, ERROR, CRITICAL\n",
    "# - Format: How the log messages will look\n",
    "# - Handlers: Where the log messages go (e.g., file, console)\n",
    "\n",
    "logging.basicConfig(\n",
    "    level=logging.INFO, # Log messages of INFO level and above\n",
    "    format='%(asctime)s - %(name)s - %(levelname)s - %(message)s',\n",
    "    handlers=[\n",
    "        logging.FileHandler(LOG_FILE), # Log to a file\n",
    "        logging.StreamHandler()        # Log to the console\n",
    "    ]\n",
    ")\n",
    "\n",
    "# Get a logger instance (best practice to use __name__ for module-level logger)\n",
    "logger = logging.getLogger(__name__)\n",
    "\n",
    "# If you want a specific logger for a component:\n",
    "# data_loader_logger = logging.getLogger(\"data_loader\")\n",
    "# model_trainer_logger = logging.getLogger(\"model.trainer\")\n",
    "\n",
    "print(\"\\n--- Python Logging ---\")\n",
    "logger.debug(\"This is a debug message. (Will not be shown with INFO level)\") # Not shown due to level=INFO\n",
    "logger.info(\"Application started. This is an informational message.\")\n",
    "logger.warning(\"A potential issue was detected, but the application can continue.\")\n",
    "logger.error(\"An error occurred. Something went wrong.\")\n",
    "logger.critical(\"A critical error occurred. The application might be unable to continue.\")\n",
    "\n",
    "\n"
   ]
  },
  {
   "cell_type": "code",
   "execution_count": null,
   "id": "a69b2e3c",
   "metadata": {},
   "outputs": [],
   "source": []
  },
  {
   "cell_type": "code",
   "execution_count": null,
   "id": "b6fc4521",
   "metadata": {},
   "outputs": [],
   "source": []
  },
  {
   "cell_type": "code",
   "execution_count": null,
   "id": "7910675c",
   "metadata": {},
   "outputs": [],
   "source": []
  },
  {
   "cell_type": "code",
   "execution_count": 23,
   "id": "71469988",
   "metadata": {},
   "outputs": [
    {
     "name": "stderr",
     "output_type": "stream",
     "text": [
      "INFO:root:This is an info message\n"
     ]
    }
   ],
   "source": [
    "import logging\n",
    "\n",
    "logging.basicConfig(level=logging.INFO)\n",
    "logging.info(\"This is an info message\")"
   ]
  },
  {
   "cell_type": "code",
   "execution_count": 24,
   "id": "4e4bd6f4",
   "metadata": {},
   "outputs": [
    {
     "name": "stderr",
     "output_type": "stream",
     "text": [
      "INFO:root:Info message\n",
      "WARNING:root:Warning!\n",
      "ERROR:root:An error occurred\n",
      "CRITICAL:root:Critical error\n"
     ]
    }
   ],
   "source": [
    "logging.debug(\"Debug message\")    # Not shown by default\n",
    "logging.info(\"Info message\")      # Visible if level is INFO or lower\n",
    "logging.warning(\"Warning!\")       # Always visible at INFO level or lower\n",
    "logging.error(\"An error occurred\")\n",
    "logging.critical(\"Critical error\")\n"
   ]
  },
  {
   "cell_type": "code",
   "execution_count": 25,
   "id": "2a9da240",
   "metadata": {},
   "outputs": [
    {
     "name": "stderr",
     "output_type": "stream",
     "text": [
      "INFO:root:Formatted info message\n"
     ]
    }
   ],
   "source": [
    "logging.basicConfig(\n",
    "    level=logging.INFO,\n",
    "    format=\"%(asctime)s - %(levelname)s - %(message)s\"\n",
    ")\n",
    "\n",
    "logging.info(\"Formatted info message\")\n"
   ]
  },
  {
   "cell_type": "code",
   "execution_count": 32,
   "id": "5eab1c3b",
   "metadata": {},
   "outputs": [],
   "source": [
    "\n",
    "# Example usage in a function\n",
    "def process_data_with_logging(data_item):\n",
    "    logger.info(f\"Starting to process data item: {data_item}\")\n",
    "    try:\n",
    "        # Simulate some processing\n",
    "        if not isinstance(data_item, dict):\n",
    "            logger.error(f\"Invalid data type for item: {type(data_item)}. Expected dict.\")\n",
    "            raise TypeError(\"Data item must be a dictionary.\")\n",
    "        result = data_item.get(\"value\", 0) * 2\n",
    "        logger.info(f\"Successfully processed data item. Result: {result}\")\n",
    "        return result\n",
    "    except Exception as e:\n",
    "        logger.error(f\"Error processing data item {data_item}: {e}\", exc_info=True) # exc_info=True logs stack trace\n",
    "        # raise # Optionally re-raise the exception\n"
   ]
  },
  {
   "cell_type": "code",
   "execution_count": 33,
   "id": "0e2684ea",
   "metadata": {},
   "outputs": [
    {
     "name": "stderr",
     "output_type": "stream",
     "text": [
      "INFO:__main__:Starting to process data item: {'value': 10}\n",
      "INFO:__main__:Successfully processed data item. Result: 20\n",
      "INFO:__main__:Starting to process data item: None\n",
      "ERROR:__main__:Invalid data type for item: <class 'NoneType'>. Expected dict.\n",
      "ERROR:__main__:Error processing data item None: Data item must be a dictionary.\n",
      "Traceback (most recent call last):\n",
      "  File \"/var/folders/7j/qr6tvgr97s3b65k1tx46fry80000gn/T/ipykernel_83481/3953309450.py\", line 8, in process_data_with_logging\n",
      "    raise TypeError(\"Data item must be a dictionary.\")\n",
      "TypeError: Data item must be a dictionary.\n"
     ]
    },
    {
     "name": "stdout",
     "output_type": "stream",
     "text": [
      "\n",
      "Log messages are being written to console and to 'logs/ml_course_app.log'.\n",
      "Check the log file for more details.\n"
     ]
    }
   ],
   "source": [
    "\n",
    "process_data_with_logging({\"value\": 10})\n",
    "process_data_with_logging(None) # This will cause an error\n",
    "\n",
    "print(f\"\\nLog messages are being written to console and to '{LOG_FILE}'.\")\n",
    "print(\"Check the log file for more details.\")"
   ]
  }
 ],
 "metadata": {
  "kernelspec": {
   "display_name": ".venv",
   "language": "python",
   "name": "python3"
  },
  "language_info": {
   "codemirror_mode": {
    "name": "ipython",
    "version": 3
   },
   "file_extension": ".py",
   "mimetype": "text/x-python",
   "name": "python",
   "nbconvert_exporter": "python",
   "pygments_lexer": "ipython3",
   "version": "3.12.10"
  }
 },
 "nbformat": 4,
 "nbformat_minor": 5
}
