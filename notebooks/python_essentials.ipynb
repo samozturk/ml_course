{
 "cells": [
  {
   "cell_type": "code",
   "execution_count": 25,
   "id": "646a7c60",
   "metadata": {},
   "outputs": [
    {
     "name": "stdout",
     "output_type": "stream",
     "text": [
      "Hello, World!\n"
     ]
    }
   ],
   "source": [
    "\n",
    "print(\"Hello, World!\")"
   ]
  },
  {
   "cell_type": "code",
   "execution_count": null,
   "id": "6259053c",
   "metadata": {},
   "outputs": [
    {
     "name": "stdout",
     "output_type": "stream",
     "text": [
      "Hello, Samet!\n"
     ]
    }
   ],
   "source": [
    "name = \"Sam\"\n",
    "print(f\"Hello, {name}!\")\n"
   ]
  },
  {
   "cell_type": "code",
   "execution_count": 8,
   "id": "181630c2",
   "metadata": {},
   "outputs": [
    {
     "name": "stdout",
     "output_type": "stream",
     "text": [
      "This is a\n",
      "multi-line string.\n"
     ]
    }
   ],
   "source": [
    "multiline_string = \"\"\"This is a\n",
    "multi-line string.\"\"\"\n",
    "print(multiline_string)"
   ]
  },
  {
   "cell_type": "markdown",
   "id": "e7544a1b",
   "metadata": {},
   "source": [
    "# Other Primitive Data Types"
   ]
  },
  {
   "cell_type": "code",
   "execution_count": 5,
   "id": "3a09ed28",
   "metadata": {},
   "outputs": [
    {
     "name": "stdout",
     "output_type": "stream",
     "text": [
      "Integer: 10, Type: <class 'int'>\n",
      "Float: 3.14, Type: <class 'float'>\n",
      "Complex: (2+3j), Type: <class 'complex'>\n"
     ]
    }
   ],
   "source": [
    "# --- Data Types ---\n",
    "# Numbers\n",
    "integer_var = 10\n",
    "float_var = 3.14\n",
    "complex_var = 2 + 3j\n",
    "print(f\"Integer: {integer_var}, Type: {type(integer_var)}\")\n",
    "print(f\"Float: {float_var}, Type: {type(float_var)}\")\n",
    "print(f\"Complex: {complex_var}, Type: {type(complex_var)}\")"
   ]
  },
  {
   "cell_type": "code",
   "execution_count": 31,
   "id": "68e104bb",
   "metadata": {},
   "outputs": [
    {
     "name": "stdout",
     "output_type": "stream",
     "text": [
      "Boolean True: True, Type: <class 'bool'>\n"
     ]
    }
   ],
   "source": [
    "\n",
    "# Booleans\n",
    "bool_true = True\n",
    "bool_false = False\n",
    "print(f\"Boolean True: {bool_true}, Type: {type(bool_true)}\")\n"
   ]
  },
  {
   "cell_type": "code",
   "execution_count": 33,
   "id": "ca627404",
   "metadata": {},
   "outputs": [
    {
     "data": {
      "text/plain": [
       "False"
      ]
     },
     "execution_count": 33,
     "metadata": {},
     "output_type": "execute_result"
    }
   ],
   "source": [
    "1 > 3"
   ]
  },
  {
   "cell_type": "markdown",
   "id": "8d7f8a76",
   "metadata": {},
   "source": [
    "# Collection Data Types"
   ]
  },
  {
   "cell_type": "code",
   "execution_count": 34,
   "id": "94f5db3e",
   "metadata": {},
   "outputs": [
    {
     "name": "stdout",
     "output_type": "stream",
     "text": [
      "Original list: [1, 'apple', 3.14, True, 1]\n",
      "After append: [1, 'apple', 3.14, True, 1, 'banana']\n",
      "First element: 1\n",
      "Slice (elements 1 to 3): ['apple', 3.14, True]\n",
      "After modification: [1, 'orange', 3.14, True, 1, 'banana']\n"
     ]
    }
   ],
   "source": [
    "# --- Lists (Mutable, Ordered) ---\n",
    "my_list = [1, \"apple\", 3.14, True, 1] # Can have mixed types\n",
    "print(f\"Original list: {my_list}\")\n",
    "my_list.append(\"banana\") # Add item to end\n",
    "print(f\"After append: {my_list}\")\n",
    "print(f\"First element: {my_list[0]}\")\n",
    "print(f\"Slice (elements 1 to 3): {my_list[1:4]}\")\n",
    "my_list[1] = \"orange\" # Modify element\n",
    "print(f\"After modification: {my_list}\")"
   ]
  },
  {
   "cell_type": "code",
   "execution_count": 38,
   "id": "21b367f4",
   "metadata": {},
   "outputs": [
    {
     "name": "stdout",
     "output_type": "stream",
     "text": [
      "[1, 'grape', 3.14, True, 1, 'banana']\n"
     ]
    }
   ],
   "source": [
    "my_list[1] = \"grape\"\n",
    "print(my_list)"
   ]
  },
  {
   "cell_type": "code",
   "execution_count": 39,
   "id": "2fb8c7a0",
   "metadata": {},
   "outputs": [
    {
     "name": "stdout",
     "output_type": "stream",
     "text": [
      "Dictionary: {'name': 'Alice', 'age': 30, 'city': 'New York'}\n",
      "Name: Alice\n",
      "After adding email: {'name': 'Alice', 'age': 30, 'city': 'New York', 'email': 'alice@example.com'}\n",
      "After updating age: {'name': 'Alice', 'age': 31, 'city': 'New York', 'email': 'alice@example.com'}\n",
      "Keys: dict_keys(['name', 'age', 'city', 'email'])\n",
      "Values: dict_values(['Alice', 31, 'New York', 'alice@example.com'])\n",
      "Items: dict_items([('name', 'Alice'), ('age', 31), ('city', 'New York'), ('email', 'alice@example.com')])\n"
     ]
    }
   ],
   "source": [
    "# --- Dictionaries (Mutable, Unordered prior to Python 3.7, Ordered in 3.7+) ---\n",
    "# Keys must be unique and immutable (e.g., strings, numbers, tuples)\n",
    "my_dict = {\"name\": \"Alice\", \"age\": 30, \"city\": \"New York\"}\n",
    "print(f\"Dictionary: {my_dict}\")\n",
    "print(f\"Name: {my_dict['name']}\")\n",
    "my_dict[\"email\"] = \"alice@example.com\" # Add new key-value pair\n",
    "print(f\"After adding email: {my_dict}\")\n",
    "my_dict[\"age\"] = 31 # Update existing value\n",
    "print(f\"After updating age: {my_dict}\")\n",
    "print(f\"Keys: {my_dict.keys()}\")\n",
    "print(f\"Values: {my_dict.values()}\")\n",
    "print(f\"Items: {my_dict.items()}\")"
   ]
  },
  {
   "cell_type": "code",
   "execution_count": 19,
   "id": "dedb7581",
   "metadata": {},
   "outputs": [
    {
     "name": "stdout",
     "output_type": "stream",
     "text": [
      "Set: {'hello', 1, 2, 3, 'world'}\n",
      "After adding 4: {'hello', 1, 2, 3, 'world', 4}\n",
      "Union: {1, 2, 3, 4, 5}\n",
      "Intersection: {3}\n"
     ]
    }
   ],
   "source": [
    "# --- Sets (Mutable, Unordered, No Duplicates) ---\n",
    "my_set = {1, 2, 3, \"hello\", 2, \"world\", 1} # Duplicates are automatically removed\n",
    "print(f\"Set: {my_set}\")\n",
    "my_set.add(4)\n",
    "print(f\"After adding 4: {my_set}\")\n",
    "set1 = {1, 2, 3}\n",
    "set2 = {3, 4, 5}\n",
    "print(f\"Union: {set1.union(set2)}\")\n",
    "print(f\"Intersection: {set1.intersection(set2)}\")"
   ]
  },
  {
   "cell_type": "markdown",
   "id": "7432c600",
   "metadata": {},
   "source": [
    "# Control Flow Statements"
   ]
  },
  {
   "cell_type": "code",
   "execution_count": 50,
   "id": "d57bab54",
   "metadata": {},
   "outputs": [
    {
     "name": "stdout",
     "output_type": "stream",
     "text": [
      "It's warm.\n"
     ]
    }
   ],
   "source": [
    "# --- Conditionals (if, elif, else) ---\n",
    "temperature = 25\n",
    "if temperature > 30:\n",
    "    print(\"It's hot!\")\n",
    "elif temperature > 20:\n",
    "    print(\"It's warm.\")\n",
    "else:\n",
    "    print(\"It's cool or cold.\")"
   ]
  },
  {
   "cell_type": "code",
   "execution_count": 56,
   "id": "8c111f6d",
   "metadata": {},
   "outputs": [
    {
     "name": "stdout",
     "output_type": "stream",
     "text": [
      "Looping through a list:\n",
      "1\n",
      "grape\n",
      "3.14\n",
      "True\n",
      "1\n",
      "banana\n",
      "Looping with range:\n",
      "0\n",
      "1\n",
      "2\n",
      "3\n",
      "4\n",
      "Looping through dictionary items:\n",
      "name: Alice\n",
      "age: 31\n",
      "city: New York\n",
      "email: alice@example.com\n"
     ]
    }
   ],
   "source": [
    "# --- Loops ---\n",
    "# For loop (iterating over a sequence)\n",
    "print(\"Looping through a list:\")\n",
    "for item in my_list:\n",
    "    print(item)\n",
    "\n",
    "print(\"Looping with range:\")\n",
    "for i in range(0,5): # 0 to 4\n",
    "    print(i)\n",
    "\n",
    "print(\"Looping through dictionary items:\")\n",
    "for key, value in my_dict.items():\n",
    "    print(f\"{key}: {value}\")\n"
   ]
  },
  {
   "cell_type": "code",
   "execution_count": 23,
   "id": "6d390d4a",
   "metadata": {},
   "outputs": [
    {
     "name": "stdout",
     "output_type": "stream",
     "text": [
      "While loop:\n",
      "Count is 0\n",
      "Count is 1\n",
      "Count is 2\n"
     ]
    }
   ],
   "source": [
    "# While loop\n",
    "count = 0\n",
    "print(\"While loop:\")\n",
    "while count < 3:\n",
    "    print(f\"Count is {count}\")\n",
    "    count += 1"
   ]
  },
  {
   "cell_type": "code",
   "execution_count": null,
   "id": "7d520a8c",
   "metadata": {},
   "outputs": [],
   "source": []
  }
 ],
 "metadata": {
  "kernelspec": {
   "display_name": ".venv",
   "language": "python",
   "name": "python3"
  },
  "language_info": {
   "codemirror_mode": {
    "name": "ipython",
    "version": 3
   },
   "file_extension": ".py",
   "mimetype": "text/x-python",
   "name": "python",
   "nbconvert_exporter": "python",
   "pygments_lexer": "ipython3",
   "version": "3.12.10"
  }
 },
 "nbformat": 4,
 "nbformat_minor": 5
}
