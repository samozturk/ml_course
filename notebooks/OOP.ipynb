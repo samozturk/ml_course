{
 "cells": [
  {
   "cell_type": "code",
   "execution_count": 1,
   "id": "e302ce26",
   "metadata": {},
   "outputs": [],
   "source": [
    "# --- Classes and Objects ---\n",
    "\n",
    "class Dog:\n",
    "    # Class attribute (shared by all instances)\n",
    "    species = \"Canis familiaris\"\n",
    "\n",
    "    # Initializer / Instance attributes\n",
    "    def __init__(self, name, age, breed=\"Unknown\"):\n",
    "        self.name = name  # Instance attribute\n",
    "        self.age = age    # Instance attribute\n",
    "        self.breed = breed  # Instance attribute\n",
    "\n",
    "    # Instance method\n",
    "    def description(self):\n",
    "        return f\"{self.name} is {self.age} years old and is a {self.breed}.\"\n",
    "\n",
    "    # Another instance method\n",
    "    def speak(self, sound):\n",
    "        return f\"{self.name} says {sound}!\"\n",
    "\n",
    "    # Dunder method (string representation of the object)\n",
    "    def __str__(self):\n",
    "        return f\"Dog(name='{self.name}', age={self.age}, breed='{self.breed}')\"\n"
   ]
  },
  {
   "cell_type": "code",
   "execution_count": 3,
   "id": "98ada19c",
   "metadata": {},
   "outputs": [
    {
     "name": "stdout",
     "output_type": "stream",
     "text": [
      "Buddy\n",
      "Unknown\n",
      "Canis familiaris\n"
     ]
    }
   ],
   "source": [
    "# Creating (instantiating) objects of the Dog class\n",
    "dog1 = Dog(\"Buddy\", 3, \"Golden Retriever\")\n",
    "dog2 = Dog(\"Lucy\", 5) # Breed will be \"Unknown\"\n",
    "\n",
    "print(dog1.name)         # Accessing instance attribute\n",
    "print(dog2.breed)        # Accessing instance attribute\n",
    "print(Dog.species)       # Accessing class attribute"
   ]
  },
  {
   "cell_type": "code",
   "execution_count": 4,
   "id": "9d31848b",
   "metadata": {},
   "outputs": [
    {
     "name": "stdout",
     "output_type": "stream",
     "text": [
      "Buddy is 3 years old and is a Golden Retriever.\n",
      "Lucy says Woof!\n",
      "Dog(name='Buddy', age=3, breed='Golden Retriever')\n",
      "Dog(name='Buddy', age=3, breed='Golden Retriever')\n"
     ]
    }
   ],
   "source": [
    "print(dog1.description())\n",
    "print(dog2.speak(\"Woof\"))\n",
    "print(str(dog1)) # Uses the __str__ method\n",
    "print(dog1)      # print() automatically calls __str__ if defined"
   ]
  },
  {
   "cell_type": "code",
   "execution_count": 5,
   "id": "05f18799",
   "metadata": {},
   "outputs": [],
   "source": [
    "# --- Example: Simple Dataset Class (Conceptual for ML) ---\n",
    "class SimpleDataset:\n",
    "    def __init__(self, features, labels):\n",
    "        if len(features) != len(labels):\n",
    "            raise ValueError(\"Features and labels must have the same number of samples.\")\n",
    "        self.features = features # Typically a list of lists, or a NumPy array later\n",
    "        self.labels = labels     # Typically a list or a NumPy array\n",
    "\n",
    "    def __len__(self):\n",
    "        \"\"\"Returns the number of samples in the dataset.\"\"\"\n",
    "        return len(self.labels)\n",
    "\n",
    "    def __getitem__(self, index):\n",
    "        \"\"\"Allows indexing to get a specific sample (features, label).\"\"\"\n",
    "        return self.features[index], self.labels[index]\n",
    "\n",
    "    def info(self):\n",
    "        print(f\"Dataset contains {len(self)} samples.\")\n",
    "        if len(self) > 0:\n",
    "            num_features = len(self.features[0]) if isinstance(self.features[0], list) else 1\n",
    "            print(f\"Number of features per sample: {num_features}\")\n"
   ]
  },
  {
   "cell_type": "code",
   "execution_count": 6,
   "id": "a0fad9bb",
   "metadata": {},
   "outputs": [],
   "source": [
    "# Example usage of SimpleDataset\n",
    "# Imagine these are rows of data for an ML model\n",
    "sample_features = [[0.1, 0.2], [0.3, 0.4], [0.5, 0.6], [0.7, 0.8]]\n",
    "sample_labels = [0, 1, 0, 1] # e.g., 0 for class A, 1 for class B"
   ]
  },
  {
   "cell_type": "code",
   "execution_count": 7,
   "id": "5d5ae257",
   "metadata": {},
   "outputs": [
    {
     "name": "stdout",
     "output_type": "stream",
     "text": [
      "Number of samples in dataset: 4\n",
      "First sample features: [0.1, 0.2], label: 0\n",
      "Dataset contains 4 samples.\n",
      "Number of features per sample: 2\n"
     ]
    }
   ],
   "source": [
    "my_dataset = SimpleDataset(sample_features, sample_labels)\n",
    "\n",
    "print(f\"Number of samples in dataset: {len(my_dataset)}\")\n",
    "first_sample = my_dataset[0]\n",
    "print(f\"First sample features: {first_sample[0]}, label: {first_sample[1]}\")\n",
    "my_dataset.info()"
   ]
  },
  {
   "cell_type": "code",
   "execution_count": 8,
   "id": "c9480c87",
   "metadata": {},
   "outputs": [
    {
     "name": "stdout",
     "output_type": "stream",
     "text": [
      "Sample 2 - Features: [0.5, 0.6], Label: 0\n"
     ]
    }
   ],
   "source": [
    "# Example of accessing another sample\n",
    "feature_vector, label = my_dataset[2]\n",
    "print(f\"Sample 2 - Features: {feature_vector}, Label: {label}\")"
   ]
  },
  {
   "cell_type": "code",
   "execution_count": null,
   "id": "a46093f7",
   "metadata": {},
   "outputs": [],
   "source": []
  }
 ],
 "metadata": {
  "kernelspec": {
   "display_name": ".venv",
   "language": "python",
   "name": "python3"
  },
  "language_info": {
   "codemirror_mode": {
    "name": "ipython",
    "version": 3
   },
   "file_extension": ".py",
   "mimetype": "text/x-python",
   "name": "python",
   "nbconvert_exporter": "python",
   "pygments_lexer": "ipython3",
   "version": "3.12.10"
  }
 },
 "nbformat": 4,
 "nbformat_minor": 5
}
