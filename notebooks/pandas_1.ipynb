{
 "cells": [
  {
   "cell_type": "code",
   "execution_count": 5,
   "id": "4a13c4d7",
   "metadata": {},
   "outputs": [
    {
     "name": "stdout",
     "output_type": "stream",
     "text": [
      "Pandas Series:\n",
      "a    10\n",
      "b    20\n",
      "c    30\n",
      "d    40\n",
      "e    50\n",
      "dtype: int64\n",
      "Value at index 'c': 30\n",
      "Values greater than 25:\n",
      "c    30\n",
      "d    40\n",
      "e    50\n",
      "dtype: int64\n"
     ]
    }
   ],
   "source": [
    "import pandas as pd\n",
    "# --- Pandas Series (1D labeled array) ---\n",
    "# Creating a Series from a list\n",
    "s_data = [10, 20, 30, 40, 50]\n",
    "s_index = ['a', 'b', 'c', 'd', 'e']\n",
    "my_series = pd.Series(data=s_data, index=s_index)\n",
    "print(\"Pandas Series:\")\n",
    "print(my_series)\n",
    "print(f\"Value at index 'c': {my_series['c']}\")\n",
    "print(f\"Values greater than 25:\\n{my_series[my_series > 25]}\")\n"
   ]
  },
  {
   "cell_type": "code",
   "execution_count": 11,
   "id": "bafdc99b",
   "metadata": {},
   "outputs": [
    {
     "name": "stdout",
     "output_type": "stream",
     "text": [
      "\n",
      "Series from dictionary:\n",
      "x    100\n",
      "y    200\n",
      "z    300\n",
      "dtype: int64\n"
     ]
    }
   ],
   "source": [
    "\n",
    "# Creating a Series from a dictionary\n",
    "dict_data = {'x': 100, 'y': 200, 'z': 300}\n",
    "series_from_dict = pd.Series(dict_data)\n",
    "print(\"\\nSeries from dictionary:\")\n",
    "print(series_from_dict)"
   ]
  },
  {
   "cell_type": "code",
   "execution_count": 2,
   "id": "ccc067a5",
   "metadata": {},
   "outputs": [
    {
     "data": {
      "text/plain": [
       "a    10\n",
       "b    20\n",
       "c    30\n",
       "d    40\n",
       "e    50\n",
       "dtype: int64"
      ]
     },
     "execution_count": 2,
     "metadata": {},
     "output_type": "execute_result"
    }
   ],
   "source": [
    "my_series"
   ]
  },
  {
   "cell_type": "code",
   "execution_count": null,
   "id": "a12f333c",
   "metadata": {},
   "outputs": [
    {
     "ename": "OverflowError",
     "evalue": "Python integer 257 out of bounds for int8",
     "output_type": "error",
     "traceback": [
      "\u001b[31m---------------------------------------------------------------------------\u001b[39m",
      "\u001b[31mOverflowError\u001b[39m                             Traceback (most recent call last)",
      "\u001b[36mCell\u001b[39m\u001b[36m \u001b[39m\u001b[32mIn[22]\u001b[39m\u001b[32m, line 9\u001b[39m\n\u001b[32m      1\u001b[39m \u001b[38;5;28;01mimport\u001b[39;00m\u001b[38;5;250m \u001b[39m\u001b[34;01mnumpy\u001b[39;00m\u001b[38;5;250m \u001b[39m\u001b[38;5;28;01mas\u001b[39;00m\u001b[38;5;250m \u001b[39m\u001b[34;01mnp\u001b[39;00m\n\u001b[32m      2\u001b[39m \u001b[38;5;66;03m# --- Pandas DataFrames (2D labeled data structure with columns of potentially different types) ---\u001b[39;00m\n\u001b[32m      3\u001b[39m \u001b[38;5;66;03m# Creating a DataFrame from a dictionary of lists\u001b[39;00m\n\u001b[32m      4\u001b[39m data = {\n\u001b[32m      5\u001b[39m     \u001b[33m'\u001b[39m\u001b[33mName\u001b[39m\u001b[33m'\u001b[39m: [\u001b[33m'\u001b[39m\u001b[33mAlice\u001b[39m\u001b[33m'\u001b[39m, \u001b[33m'\u001b[39m\u001b[33mBob\u001b[39m\u001b[33m'\u001b[39m, \u001b[33m'\u001b[39m\u001b[33mCharlie\u001b[39m\u001b[33m'\u001b[39m, \u001b[33m'\u001b[39m\u001b[33mDavid\u001b[39m\u001b[33m'\u001b[39m, \u001b[33m'\u001b[39m\u001b[33mEve\u001b[39m\u001b[33m'\u001b[39m],\n\u001b[32m      6\u001b[39m     \u001b[33m'\u001b[39m\u001b[33mAge\u001b[39m\u001b[33m'\u001b[39m: [\u001b[32m25\u001b[39m, \u001b[32m30\u001b[39m, \u001b[32m35\u001b[39m, \u001b[32m28\u001b[39m, \u001b[32m22\u001b[39m],\n\u001b[32m      7\u001b[39m     \u001b[33m'\u001b[39m\u001b[33mCity\u001b[39m\u001b[33m'\u001b[39m: [\u001b[33m'\u001b[39m\u001b[33mNew York\u001b[39m\u001b[33m'\u001b[39m, \u001b[33m'\u001b[39m\u001b[33mLos Angeles\u001b[39m\u001b[33m'\u001b[39m, \u001b[33m'\u001b[39m\u001b[33mChicago\u001b[39m\u001b[33m'\u001b[39m, \u001b[33m'\u001b[39m\u001b[33mHouston\u001b[39m\u001b[33m'\u001b[39m, \u001b[33m'\u001b[39m\u001b[33mPhoenix\u001b[39m\u001b[33m'\u001b[39m],\n\u001b[32m      8\u001b[39m     \u001b[33m'\u001b[39m\u001b[33mSalary\u001b[39m\u001b[33m'\u001b[39m: [\u001b[32m70000\u001b[39m, \u001b[32m80000\u001b[39m, \u001b[32m90000\u001b[39m, \u001b[32m75000\u001b[39m, \u001b[32m65000\u001b[39m],\n\u001b[32m----> \u001b[39m\u001b[32m9\u001b[39m     \u001b[33m\"\u001b[39m\u001b[33mOptimized\u001b[39m\u001b[33m\"\u001b[39m: \u001b[43mnp\u001b[49m\u001b[43m.\u001b[49m\u001b[43marray\u001b[49m\u001b[43m(\u001b[49m\u001b[43m[\u001b[49m\u001b[32;43m1\u001b[39;49m\u001b[43m,\u001b[49m\u001b[32;43m2\u001b[39;49m\u001b[43m,\u001b[49m\u001b[32;43m3\u001b[39;49m\u001b[43m,\u001b[49m\u001b[32;43m4\u001b[39;49m\u001b[43m,\u001b[49m\u001b[32;43m257\u001b[39;49m\u001b[43m]\u001b[49m\u001b[43m,\u001b[49m\u001b[43m \u001b[49m\u001b[43mdtype\u001b[49m\u001b[43m=\u001b[49m\u001b[43mnp\u001b[49m\u001b[43m.\u001b[49m\u001b[43mint8\u001b[49m\u001b[43m)\u001b[49m\n\u001b[32m     10\u001b[39m }\n\u001b[32m     11\u001b[39m df = pd.DataFrame(data)\n\u001b[32m     12\u001b[39m \u001b[38;5;28mprint\u001b[39m(\u001b[33m\"\u001b[39m\u001b[38;5;130;01m\\n\u001b[39;00m\u001b[33mPandas DataFrame:\u001b[39m\u001b[33m\"\u001b[39m)\n",
      "\u001b[31mOverflowError\u001b[39m: Python integer 257 out of bounds for int8"
     ]
    }
   ],
   "source": [
    "import numpy as np\n",
    "# --- Pandas DataFrames (2D labeled data structure with columns of potentially different types) ---\n",
    "# Creating a DataFrame from a dictionary of lists\n",
    "data = {\n",
    "    'Name': ['Alice', 'Bob', 'Charlie', 'David', 'Eve'],\n",
    "    'Age': [25, 30, 35, 28, 22],\n",
    "    'City': ['New York', 'Los Angeles', 'Chicago', 'Houston', 'Phoenix'],\n",
    "    'Salary': [70000, 80000, 90000, 75000, 65000],\n",
    "    \"Optimized\": np.array([1,2,3,4,5], dtype=np.int8)\n",
    "}\n",
    "df = pd.DataFrame(data)\n",
    "print(\"\\nPandas DataFrame:\")\n",
    "df\n",
    "\n"
   ]
  },
  {
   "cell_type": "code",
   "execution_count": null,
   "id": "38c3dc96",
   "metadata": {},
   "outputs": [
    {
     "data": {
      "text/plain": [
       "numpy.int64"
      ]
     },
     "execution_count": 20,
     "metadata": {},
     "output_type": "execute_result"
    }
   ],
   "source": []
  },
  {
   "cell_type": "markdown",
   "id": "20009859",
   "metadata": {},
   "source": [
    "# Handling Data From a File"
   ]
  },
  {
   "cell_type": "code",
   "execution_count": 5,
   "id": "d8106719",
   "metadata": {},
   "outputs": [
    {
     "name": "stdout",
     "output_type": "stream",
     "text": [
      "\n",
      "'sample_data.csv' created for demonstration.\n"
     ]
    }
   ],
   "source": [
    "# Create a dummy CSV for demonstration if it doesn't exist\n",
    "try:\n",
    "    with open('sample_data.csv', 'w') as f:\n",
    "        f.write(\"id,feature1,feature2,target\\n\")\n",
    "        f.write(\"1,0.5,1.2,0\\n\")\n",
    "        f.write(\"2,0.3,0.9,1\\n\")\n",
    "        f.write(\"3,0.7,1.5,0\\n\")\n",
    "        f.write(\"4,0.1,0.3,1\\n\")\n",
    "        f.write(\"5,,1.1,0\\n\") # Note the missing value (NA)\n",
    "        f.write(\"6,0.6,1.3,1\\n\")\n",
    "    print(\"\\n'sample_data.csv' created for demonstration.\")\n",
    "except IOError:\n",
    "    print(\"\\nCould not create 'sample_data.csv'. Please ensure you have write permissions or create it manually.\")\n"
   ]
  },
  {
   "cell_type": "code",
   "execution_count": 6,
   "id": "e54c8dc7",
   "metadata": {},
   "outputs": [
    {
     "name": "stdout",
     "output_type": "stream",
     "text": [
      "\n",
      "DataFrame loaded from CSV:\n",
      "   id  feature1  feature2  target\n",
      "0   1       0.5       1.2       0\n",
      "1   2       0.3       0.9       1\n",
      "2   3       0.7       1.5       0\n",
      "3   4       0.1       0.3       1\n",
      "4   5       NaN       1.1       0\n",
      "5   6       0.6       1.3       1\n"
     ]
    }
   ],
   "source": [
    "# Load data from a CSV file\n",
    "try:\n",
    "    df_from_csv = pd.read_csv('sample_data.csv')\n",
    "    print(\"\\nDataFrame loaded from CSV:\")\n",
    "    print(df_from_csv)\n",
    "except FileNotFoundError:\n",
    "    print(\"\\nError: 'sample_data.csv' not found. Please create it or place it in the correct directory.\")\n"
   ]
  },
  {
   "cell_type": "code",
   "execution_count": 12,
   "id": "2fde7a4c",
   "metadata": {},
   "outputs": [
    {
     "name": "stdout",
     "output_type": "stream",
     "text": [
      "\n",
      "--- Exploring the CSV DataFrame ---\n",
      "\n",
      "Head (first 5 rows):\n",
      "   id  feature1  feature2  target\n",
      "0   1       0.5       1.2       0\n",
      "1   2       0.3       0.9       1\n",
      "2   3       0.7       1.5       0\n",
      "3   4       0.1       0.3       1\n",
      "4   5       NaN       1.1       0\n",
      "\n",
      "Tail (last 3 rows):\n",
      "   id  feature1  feature2  target\n",
      "3   4       0.1       0.3       1\n",
      "4   5       NaN       1.1       0\n",
      "5   6       0.6       1.3       1\n",
      "\n",
      "Shape of the DataFrame: (6, 4)\n",
      "\n",
      "Column names: ['id', 'feature1', 'feature2', 'target']\n",
      "\n",
      "Data types of columns (dtypes):\n",
      "id            int64\n",
      "feature1    float64\n",
      "feature2    float64\n",
      "target        int64\n",
      "dtype: object\n",
      "\n",
      "Info (summary of DataFrame):\n",
      "<class 'pandas.core.frame.DataFrame'>\n",
      "RangeIndex: 6 entries, 0 to 5\n",
      "Data columns (total 4 columns):\n",
      " #   Column    Non-Null Count  Dtype  \n",
      "---  ------    --------------  -----  \n",
      " 0   id        6 non-null      int64  \n",
      " 1   feature1  5 non-null      float64\n",
      " 2   feature2  6 non-null      float64\n",
      " 3   target    6 non-null      int64  \n",
      "dtypes: float64(2), int64(2)\n",
      "memory usage: 324.0 bytes\n",
      "\n",
      "Descriptive statistics (describe()):\n",
      "             id  feature1  feature2    target\n",
      "count  6.000000  5.000000   6.00000  6.000000\n",
      "mean   3.500000  0.440000   1.05000  0.500000\n",
      "std    1.870829  0.240832   0.41833  0.547723\n",
      "min    1.000000  0.100000   0.30000  0.000000\n",
      "25%    2.250000  0.300000   0.95000  0.000000\n",
      "50%    3.500000  0.500000   1.15000  0.500000\n",
      "75%    4.750000  0.600000   1.27500  1.000000\n",
      "max    6.000000  0.700000   1.50000  1.000000\n"
     ]
    }
   ],
   "source": [
    "\n",
    "# --- Exploring Datasets ---\n",
    "print(\"\\n--- Exploring the CSV DataFrame ---\")\n",
    "# Display the first N rows (default is 5)\n",
    "print(\"\\nHead (first 5 rows):\")\n",
    "print(df_from_csv.head())\n",
    "\n",
    "# Display the last N rows\n",
    "print(\"\\nTail (last 3 rows):\")\n",
    "print(df_from_csv.tail(3))\n",
    "\n",
    "# Get the dimensions of the DataFrame (rows, columns)\n",
    "print(f\"\\nShape of the DataFrame: {df_from_csv.shape}\")\n",
    "\n",
    "# Get column names\n",
    "print(f\"\\nColumn names: {df_from_csv.columns.tolist()}\")\n",
    "\n",
    "# Get data types of each column\n",
    "print(\"\\nData types of columns (dtypes):\")\n",
    "print(df_from_csv.dtypes)\n",
    "\n",
    "# Get a concise summary of the DataFrame\n",
    "print(\"\\nInfo (summary of DataFrame):\")\n",
    "df_from_csv.info()\n",
    "\n",
    "# Get descriptive statistics for numerical columns\n",
    "print(\"\\nDescriptive statistics (describe()):\")\n",
    "print(df_from_csv.describe())\n"
   ]
  },
  {
   "cell_type": "code",
   "execution_count": 14,
   "id": "900935b2",
   "metadata": {},
   "outputs": [
    {
     "name": "stdout",
     "output_type": "stream",
     "text": [
      "\n",
      "Selecting 'feature1' column:\n",
      "0    0.5\n",
      "1    0.3\n",
      "2    0.7\n",
      "3    0.1\n",
      "4    NaN\n",
      "5    0.6\n",
      "Name: feature1, dtype: float64\n",
      "\n",
      "Selecting 'id' and 'target' columns:\n",
      "   id  target\n",
      "0   1       0\n",
      "1   2       1\n",
      "2   3       0\n",
      "3   4       1\n",
      "4   5       0\n",
      "5   6       1\n",
      "\n",
      "Selecting row with index 2 (using .loc):\n",
      "id          3.0\n",
      "feature1    0.7\n",
      "feature2    1.5\n",
      "target      0.0\n",
      "Name: 2, dtype: float64\n"
     ]
    }
   ],
   "source": [
    "\n",
    "# --- Selecting Data ---\n",
    "# Select a single column (returns a Series)\n",
    "print(\"\\nSelecting 'feature1' column:\")\n",
    "print(df_from_csv['feature1'])\n",
    "\n",
    "# Select multiple columns (returns a DataFrame)\n",
    "print(\"\\nSelecting 'id' and 'target' columns:\")\n",
    "print(df_from_csv[['id', 'target']])\n",
    "\n",
    "# Select rows by label (index) using .loc\n",
    "# (assuming 'id' is not the index yet, so it uses default integer index)\n",
    "print(\"\\nSelecting row with index 2 (using .loc):\")\n",
    "print(df_from_csv.loc[2]) # Selects the third row (0-indexed)\n"
   ]
  },
  {
   "cell_type": "code",
   "execution_count": 16,
   "id": "9382e2f8",
   "metadata": {},
   "outputs": [
    {
     "name": "stdout",
     "output_type": "stream",
     "text": [
      "\n",
      "Selecting rows 0 to 2 and columns 'feature1', 'feature2' (using .loc):\n",
      "   feature1  feature2\n",
      "0       0.5       1.2\n",
      "1       0.3       0.9\n",
      "2       0.7       1.5\n",
      "\n",
      "Selecting row at integer position 2 (using .iloc):\n",
      "id          3.0\n",
      "feature1    0.7\n",
      "feature2    1.5\n",
      "target      0.0\n",
      "Name: 2, dtype: float64\n",
      "\n",
      "Selecting rows 0 to 2 (exclusive for end) and columns 1 to 2 (exclusive for end) (using .iloc):\n",
      "   feature1  feature2\n",
      "0       0.5       1.2\n",
      "1       0.3       0.9\n",
      "2       0.7       1.5\n",
      "\n",
      "Rows where 'target' is 1:\n",
      "   id  feature1  feature2  target\n",
      "1   2       0.3       0.9       1\n",
      "3   4       0.1       0.3       1\n",
      "5   6       0.6       1.3       1\n"
     ]
    }
   ],
   "source": [
    "\n",
    "print(\"\\nSelecting rows 0 to 2 and columns 'feature1', 'feature2' (using .loc):\")\n",
    "print(df_from_csv.loc[0:2, ['feature1', 'feature2']]) # Inclusive slice for .loc\n",
    "\n",
    "# Select rows by integer position using .iloc\n",
    "print(\"\\nSelecting row at integer position 2 (using .iloc):\")\n",
    "print(df_from_csv.iloc[2]) # Selects the third row\n",
    "\n",
    "print(\"\\nSelecting rows 0 to 2 (exclusive for end) and columns 1 to 2 (exclusive for end) (using .iloc):\")\n",
    "print(df_from_csv.iloc[0:3, 1:3]) # Exclusive slice for .iloc\n",
    "\n",
    "# Conditional selection\n",
    "print(\"\\nRows where 'target' is 1:\")\n",
    "print(df_from_csv[df_from_csv['target'] == 1])\n"
   ]
  },
  {
   "cell_type": "code",
   "execution_count": 18,
   "id": "ad0c0208",
   "metadata": {},
   "outputs": [
    {
     "name": "stdout",
     "output_type": "stream",
     "text": [
      "\n",
      "Rows where 'feature2' > 1.0 and 'target' is 0:\n",
      "   id  feature1  feature2  target\n",
      "0   1       0.5       1.2       0\n",
      "2   3       0.7       1.5       0\n",
      "4   5       NaN       1.1       0\n"
     ]
    }
   ],
   "source": [
    "\n",
    "print(\"\\nRows where 'feature2' > 1.0 and 'target' is 0:\")\n",
    "print(df_from_csv[(df_from_csv['feature2'] > 1.0) & (df_from_csv['target'] == 0)])\n"
   ]
  },
  {
   "cell_type": "code",
   "execution_count": null,
   "id": "d8968ea7",
   "metadata": {},
   "outputs": [],
   "source": []
  }
 ],
 "metadata": {
  "kernelspec": {
   "display_name": ".venv",
   "language": "python",
   "name": "python3"
  },
  "language_info": {
   "codemirror_mode": {
    "name": "ipython",
    "version": 3
   },
   "file_extension": ".py",
   "mimetype": "text/x-python",
   "name": "python",
   "nbconvert_exporter": "python",
   "pygments_lexer": "ipython3",
   "version": "3.12.10"
  }
 },
 "nbformat": 4,
 "nbformat_minor": 5
}
